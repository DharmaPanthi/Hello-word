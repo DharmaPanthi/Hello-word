{
 "cells": [
  {
   "cell_type": "code",
   "execution_count": 2,
   "metadata": {},
   "outputs": [
    {
     "name": "stdout",
     "output_type": "stream",
     "text": [
      "hellow\n",
      "hellow dharma\n"
     ]
    }
   ],
   "source": [
    "print(\"hellow\")\n",
    "print('hellow dharma')\n"
   ]
  },
  {
   "cell_type": "markdown",
   "metadata": {},
   "source": [
    "# Title\n",
    "## Subtitle\n",
    "### Subsubtile\n",
    "\n",
    "$(a+b)^2 = a^2 + 2ab + b^2$\n",
    "\n",
    "$\\alpha$\n",
    "\n",
    "$\\frac{a}{b}$\n",
    "\n",
    "![img](https://upload.oceanzer.com/image_global/4-picture/_light-238927-pangin.jpg)\n",
    "![img](https://scontent.fktm8-1.fna.fbcdn.net/v/t1.0-9/79165787_121404842667627_8811156932803952640_o.jpg?_nc_cat=101&_nc_sid=e3f864&_nc_ohc=WRmFenBDd4YAX9hPPrT&_nc_ht=scontent.fktm8-1.fna&oh=3e5b2b74b1302c5e874c9f392ec16240&oe=5F2D6CA1)\n",
    "\n",
    "\n",
    "$(a+b)^2 = a^2 + 2ab + b^2$\n",
    "![img](https://www.thebalancecareers.com/thmb/ytFxkTiAENF5BWZa4ApWcM1vbJA=/950x0/filters:max_bytes(150000):strip_icc():format(webp)/child-protective-services-caseworker-1669622-v3-a181147b162c40778a4de37ee78e2b83.png)"
   ]
  },
  {
   "cell_type": "code",
   "execution_count": null,
   "metadata": {},
   "outputs": [],
   "source": []
  }
 ],
 "metadata": {
  "kernelspec": {
   "display_name": "Python 3",
   "language": "python",
   "name": "python3"
  },
  "language_info": {
   "codemirror_mode": {
    "name": "ipython",
    "version": 3
   },
   "file_extension": ".py",
   "mimetype": "text/x-python",
   "name": "python",
   "nbconvert_exporter": "python",
   "pygments_lexer": "ipython3",
   "version": "3.7.6"
  }
 },
 "nbformat": 4,
 "nbformat_minor": 4
}
